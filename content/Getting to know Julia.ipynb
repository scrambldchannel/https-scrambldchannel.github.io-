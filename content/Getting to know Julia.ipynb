{
 "cells": [
  {
   "cell_type": "markdown",
   "metadata": {},
   "source": [
    "- title:  Building a Julia module to get information about spaceships\n",
    "- author: Alexander\n",
    "- date: 2020-10-06 17:29\n",
    "- category: julia\n",
    "- tags: julia\n",
    "- slug: julia-create-a-module\n",
    "- featured_image: images/x_wing_ascii_art.png\n",
    "- Summary: I stumbled around a bit trying to work out how to create a module, use it and be able to edit it on the fly. There was a bit of head scratching but I was able to work out how to create a module to get data about spaceships."
   ]
  },
  {
   "cell_type": "markdown",
   "metadata": {},
   "source": [
    "## Package creation\n",
    "\n",
    "Still a bit hazy on how to do this - more details [here](https://invenia.github.io/PkgTemplates.jl/stable/user/). I especially like the sound of [develop](https://invenia.github.io/PkgTemplates.jl/stable/user/#PkgTemplates.Develop) so included that on the basis that it was probably good. Simple, straightforward names seem to be a thing in Julia, so I took a punt as well as Codecov which sounded pretty benign."
   ]
  },
  {
   "cell_type": "code",
   "execution_count": 5,
   "metadata": {},
   "outputs": [],
   "source": [
    "using PkgTemplates\n",
    "\n",
    "t = Template(;\n",
    "    user=\"scrambldchannel\",\n",
    "    dir=\"/home/alex/git/\",\n",
    "    plugins=[\n",
    "        Git(; manifest=true, ssh=true),\n",
    "        Codecov(),\n",
    "        Develop(),\n",
    "    ],\n",
    "); # semi colons suppress output, it's a matlab thing apparently"
   ]
  },
  {
   "cell_type": "markdown",
   "metadata": {},
   "source": [
    "### Build package scaffold from template\n",
    "\n",
    "This uses the template to create a new package based on the the details supplied. "
   ]
  },
  {
   "cell_type": "code",
   "execution_count": 11,
   "metadata": {},
   "outputs": [
    {
     "name": "stderr",
     "output_type": "stream",
     "text": [
      "┌ Info: Running prehooks\n",
      "└ @ PkgTemplates /home/alex/.julia/packages/PkgTemplates/ZhTWM/src/template.jl:130\n",
      "┌ Info: Running hooks\n",
      "└ @ PkgTemplates /home/alex/.julia/packages/PkgTemplates/ZhTWM/src/template.jl:130\n",
      "\u001b[32m\u001b[1m Activating\u001b[22m\u001b[39m environment at `~/git/SWAPI/Project.toml`\n",
      "\u001b[32m\u001b[1m   Updating\u001b[22m\u001b[39m registry at `~/.julia/registries/General`\n"
     ]
    },
    {
     "name": "stdout",
     "output_type": "stream",
     "text": [
      "\u001b[?25l    "
     ]
    },
    {
     "name": "stderr",
     "output_type": "stream",
     "text": [
      "\u001b[32m\u001b[1m   Updating\u001b[22m\u001b[39m git-repo `https://github.com/JuliaRegistries/General.git`\n"
     ]
    },
    {
     "name": "stdout",
     "output_type": "stream",
     "text": [
      "\u001b[36m\u001b[1mFetching:\u001b[22m\u001b[39m [>                                        ]  0.0 %\r",
      "    \u001b[36m\u001b[1mFetching:\u001b[22m\u001b[39m [=====>                                   ]  11.1 %\r",
      "    \u001b[36m\u001b[1mFetching:\u001b[22m\u001b[39m [=========>                               ]  22.2 %\r",
      "    \u001b[36m\u001b[1mFetching:\u001b[22m\u001b[39m [==============>                          ]  33.3 %\r",
      "    \u001b[36m\u001b[1mFetching:\u001b[22m\u001b[39m [==================>                      ]  44.4 %\r",
      "    \u001b[36m\u001b[1mFetching:\u001b[22m\u001b[39m [=======================>                 ]  55.6 %\r",
      "    \u001b[36m\u001b[1mFetching:\u001b[22m\u001b[39m [===========================>             ]  66.7 %\r",
      "    \u001b[36m\u001b[1mFetching:\u001b[22m\u001b[39m [================================>        ]  77.8 %\r",
      "    \u001b[36m\u001b[1mFetching:\u001b[22m\u001b[39m [====================================>    ]  88.9 %\r",
      "    \u001b[36m\u001b[1mFetching:\u001b[22m\u001b[39m [========================================>]  100.0 %\r",
      "\u001b[2K\u001b[?25h"
     ]
    },
    {
     "name": "stderr",
     "output_type": "stream",
     "text": [
      "\u001b[32m\u001b[1m   Updating\u001b[22m\u001b[39m `~/git/SWAPI/Project.toml`\n",
      "\u001b[90m [no changes]\u001b[39m\n",
      "\u001b[32m\u001b[1m   Updating\u001b[22m\u001b[39m `~/git/SWAPI/Manifest.toml`\n",
      "\u001b[90m [no changes]\u001b[39m\n",
      "\u001b[32m\u001b[1m Activating\u001b[22m\u001b[39m environment at `~/.julia/environments/v1.4/Project.toml`\n",
      "┌ Info: Running posthooks\n",
      "└ @ PkgTemplates /home/alex/.julia/packages/PkgTemplates/ZhTWM/src/template.jl:130\n",
      "Path `/home/alex/git/SWAPI` exists and looks like the correct package. Using existing path.\n",
      "\u001b[32m\u001b[1m  Resolving\u001b[22m\u001b[39m package versions...\n",
      "\u001b[32m\u001b[1m   Updating\u001b[22m\u001b[39m `~/.julia/environments/v1.4/Project.toml`\n",
      " \u001b[90m [a10bf705]\u001b[39m\u001b[92m + SWAPI v0.1.0 [`~/git/SWAPI`]\u001b[39m\n",
      "\u001b[32m\u001b[1m   Updating\u001b[22m\u001b[39m `~/.julia/environments/v1.4/Manifest.toml`\n",
      " \u001b[90m [a10bf705]\u001b[39m\u001b[92m + SWAPI v0.1.0 [`~/git/SWAPI`]\u001b[39m\n",
      "┌ Info: New package is at /home/alex/git/SWAPI\n",
      "└ @ PkgTemplates /home/alex/.julia/packages/PkgTemplates/ZhTWM/src/template.jl:140\n"
     ]
    }
   ],
   "source": [
    "t(\"SWAPI\")"
   ]
  },
  {
   "cell_type": "markdown",
   "metadata": {},
   "source": [
    "## Using Revise\n",
    "\n",
    "In theory this should let me hack on my module and reflect changes as I go but it's easier to enabled it by default by adding a couple of config files in ~/.julia/config. Note, I got stuck here for a while before realising I wasn't on >= 1.5 - see [here for details](https://timholy.github.io/Revise.jl/stable/config/#Using-Revise-by-default-1)"
   ]
  },
  {
   "cell_type": "code",
   "execution_count": 13,
   "metadata": {},
   "outputs": [],
   "source": [
    "using Pkg"
   ]
  },
  {
   "cell_type": "code",
   "execution_count": 27,
   "metadata": {},
   "outputs": [
    {
     "name": "stderr",
     "output_type": "stream",
     "text": [
      "\u001b[32m\u001b[1m  Resolving\u001b[22m\u001b[39m package versions...\n",
      "\u001b[32m\u001b[1m   Updating\u001b[22m\u001b[39m `~/.julia/environments/v1.4/Project.toml`\n",
      " \u001b[90m [295af30f]\u001b[39m\u001b[92m + Revise v2.7.6\u001b[39m\n",
      "\u001b[32m\u001b[1m   Updating\u001b[22m\u001b[39m `~/.julia/environments/v1.4/Manifest.toml`\n",
      " \u001b[90m [6f1432cf]\u001b[39m\u001b[92m + LoweredCodeUtils v0.4.9\u001b[39m\n",
      " \u001b[90m [295af30f]\u001b[39m\u001b[92m + Revise v2.7.6\u001b[39m\n"
     ]
    }
   ],
   "source": [
    "# It was at about this point that I started giving up managing the environment in a notebook and moved to the REPl\n",
    "\n",
    "Pkg.add(\"Revise\")"
   ]
  },
  {
   "cell_type": "code",
   "execution_count": 28,
   "metadata": {},
   "outputs": [],
   "source": [
    "using Revise"
   ]
  },
  {
   "cell_type": "markdown",
   "metadata": {},
   "source": [
    "### You really want to run it automatically if developing\n",
    "\n",
    "Do it before using the package you want to develop if doing manually."
   ]
  },
  {
   "cell_type": "markdown",
   "metadata": {},
   "source": [
    "```text\n",
    "               _\n",
    "   _       _ _(_)_     |  Documentation: https://docs.julialang.org\n",
    "  (_)     | (_) (_)    |\n",
    "   _ _   _| |_  __ _   |  Type \"?\" for help, \"]?\" for Pkg help.\n",
    "  | | | | | | |/ _` |  |\n",
    "  | | |_| | | | (_| |  |  Version 1.4.1\n",
    " _/ |\\__'_|_|_|\\__'_|  |  Ubuntu ⛬  julia/1.4.1+dfsg-1\n",
    "|__/                   |\n",
    "\n",
    "```\n",
    "\n",
    "### ~/.julia/config/startup.jl\n",
    "\n",
    "```julia\n",
    "atreplinit() do repl\n",
    "    try\n",
    "        @eval using Revise\n",
    "        @async Revise.wait_steal_repl_backend()\n",
    "    catch e\n",
    "        @warn(e.msg)\n",
    "    end\n",
    "end\n",
    "\n",
    "```\n",
    "\n",
    "### ~/.julia/config/startup_ijulia.jl\n",
    "\n",
    "```julia\n",
    "try\n",
    "    @eval using Revise\n",
    "catch e\n",
    "    @warn(e.msg)\n",
    "end\n",
    "```"
   ]
  },
  {
   "cell_type": "markdown",
   "metadata": {},
   "source": [
    "## Simple module overview"
   ]
  },
  {
   "cell_type": "markdown",
   "metadata": {},
   "source": [
    "### SWAPI/src/SWAPI.jl\n",
    "\n",
    "```julia\n",
    "module SWAPI\n",
    "\n",
    "    export request_data\n",
    "\n",
    "    include(\"request.jl\")\n",
    "\n",
    "end\n",
    "```"
   ]
  },
  {
   "cell_type": "markdown",
   "metadata": {},
   "source": [
    "### SWAPI/src/request.jl\n",
    "\n",
    "```julia\n",
    "using HTTP\n",
    "using JSON\n",
    "\n",
    "function request_data(url)\n",
    "    response = HTTP.get(url)\n",
    "    return JSON.print(JSON.parse(response), 4)\n",
    "end\n",
    "\n",
    "```"
   ]
  },
  {
   "cell_type": "markdown",
   "metadata": {},
   "source": [
    "## Local packages can be loaded like this"
   ]
  },
  {
   "cell_type": "code",
   "execution_count": 34,
   "metadata": {},
   "outputs": [
    {
     "name": "stdout",
     "output_type": "stream",
     "text": [
      "\u001b[?25l\u001b[2K\u001b[?25h"
     ]
    },
    {
     "name": "stderr",
     "output_type": "stream",
     "text": [
      "\u001b[32m\u001b[1m   Updating\u001b[22m\u001b[39m git-repo `/home/alex/git/SWAPI`\n",
      "\u001b[32m\u001b[1m  Resolving\u001b[22m\u001b[39m package versions...\n",
      "\u001b[32m\u001b[1m   Updating\u001b[22m\u001b[39m `~/.julia/environments/v1.4/Project.toml`\n",
      " \u001b[90m [61ae70ba]\u001b[39m\u001b[93m ~ SWAPI v0.1.0 [`~/.julia/dev/SWAPI`] ⇒ v0.1.0 #master (/home/alex/git/SWAPI)\u001b[39m\n",
      "\u001b[32m\u001b[1m   Updating\u001b[22m\u001b[39m `~/.julia/environments/v1.4/Manifest.toml`\n",
      " \u001b[90m [61ae70ba]\u001b[39m\u001b[93m ~ SWAPI v0.1.0 [`~/.julia/dev/SWAPI`] ⇒ v0.1.0 #master (/home/alex/git/SWAPI)\u001b[39m\n"
     ]
    }
   ],
   "source": [
    "Pkg.add(PackageSpec(path=\"/home/alex/git/SWAPI\"))"
   ]
  },
  {
   "cell_type": "markdown",
   "metadata": {},
   "source": [
    "## Developing modules workflow\n",
    "\n",
    "This seemed a bit counter intuitive for me, it clones the repo somewhere else. I'm not sure whether this is actually necessary. Surely I can just edit it in its existing repository? "
   ]
  },
  {
   "cell_type": "code",
   "execution_count": 35,
   "metadata": {
    "scrolled": true
   },
   "outputs": [
    {
     "name": "stderr",
     "output_type": "stream",
     "text": [
      "Path `/home/alex/.julia/dev/SWAPI` exists and looks like the correct package. Using existing path.\n",
      "\u001b[32m\u001b[1m  Resolving\u001b[22m\u001b[39m package versions...\n",
      "\u001b[32m\u001b[1m   Updating\u001b[22m\u001b[39m `~/.julia/environments/v1.4/Project.toml`\n",
      " \u001b[90m [61ae70ba]\u001b[39m\u001b[93m ~ SWAPI v0.1.0 #master (/home/alex/git/SWAPI) ⇒ v0.1.0 [`~/.julia/dev/SWAPI`]\u001b[39m\n",
      "\u001b[32m\u001b[1m   Updating\u001b[22m\u001b[39m `~/.julia/environments/v1.4/Manifest.toml`\n",
      " \u001b[90m [61ae70ba]\u001b[39m\u001b[93m ~ SWAPI v0.1.0 #master (/home/alex/git/SWAPI) ⇒ v0.1.0 [`~/.julia/dev/SWAPI`]\u001b[39m\n"
     ]
    }
   ],
   "source": [
    "Pkg.develop(\"SWAPI\")"
   ]
  },
  {
   "cell_type": "markdown",
   "metadata": {},
   "source": [
    "### Note path to SWAPI has changed"
   ]
  },
  {
   "cell_type": "code",
   "execution_count": 36,
   "metadata": {
    "scrolled": true
   },
   "outputs": [
    {
     "name": "stdout",
     "output_type": "stream",
     "text": [
      "\u001b[32m\u001b[1mStatus\u001b[22m\u001b[39m `~/.julia/environments/v1.4/Project.toml`\n",
      " \u001b[90m [cd3eb016]\u001b[39m\u001b[37m HTTP v0.8.19\u001b[39m\n",
      " \u001b[90m [7073ff75]\u001b[39m\u001b[37m IJulia v1.21.4\u001b[39m\n",
      " \u001b[90m [682c06a0]\u001b[39m\u001b[37m JSON v0.21.1\u001b[39m\n",
      " \u001b[90m [14b8a8f1]\u001b[39m\u001b[37m PkgTemplates v0.7.10\u001b[39m\n",
      " \u001b[90m [295af30f]\u001b[39m\u001b[37m Revise v2.7.6\u001b[39m\n",
      " \u001b[90m [61ae70ba]\u001b[39m\u001b[37m SWAPI v0.1.0 [`~/.julia/dev/SWAPI`]\u001b[39m\n"
     ]
    }
   ],
   "source": [
    "Pkg.status()"
   ]
  },
  {
   "cell_type": "code",
   "execution_count": 37,
   "metadata": {},
   "outputs": [
    {
     "name": "stderr",
     "output_type": "stream",
     "text": [
      "┌ Info: Precompiling SWAPI [61ae70ba-0cff-4632-b6d2-2c7df9ba8302]\n",
      "└ @ Base loading.jl:1260\n",
      "┌ Warning: Package SWAPI does not have HTTP in its dependencies:\n",
      "│ - If you have SWAPI checked out for development and have\n",
      "│   added HTTP as a dependency but haven't updated your primary\n",
      "│   environment's manifest file, try `Pkg.resolve()`.\n",
      "│ - Otherwise you may need to report an issue with SWAPI\n",
      "└ Loading HTTP into SWAPI from project dependency, future warnings for SWAPI are suppressed.\n",
      "WARNING: Method definition request_planet(Any) in module SWAPI at /home/alex/.julia/dev/SWAPI/src/request_person.jl:4 overwritten at /home/alex/.julia/dev/SWAPI/src/request_planet.jl:4.\n",
      "  ** incremental compilation may be fatally broken for this module **\n",
      "\n"
     ]
    }
   ],
   "source": [
    "# some warnings here, I need to update the deps for the package\n",
    "\n",
    "using SWAPI"
   ]
  },
  {
   "cell_type": "markdown",
   "metadata": {},
   "source": [
    "## Now we can get Han Solo baby"
   ]
  },
  {
   "cell_type": "code",
   "execution_count": 52,
   "metadata": {},
   "outputs": [
    {
     "name": "stdout",
     "output_type": "stream",
     "text": [
      "{\n",
      "    \"skin_color\": \"fair\",\n",
      "    \"eye_color\": \"brown\",\n",
      "    \"edited\": \"2014-12-20T21:17:50.334000Z\",\n",
      "    \"films\": [\n",
      "        \"http://swapi.dev/api/films/1/\",\n",
      "        \"http://swapi.dev/api/films/2/\",\n",
      "        \"http://swapi.dev/api/films/3/\"\n",
      "    ],\n",
      "    \"starships\": [\n",
      "        \"http://swapi.dev/api/starships/10/\",\n",
      "        \"http://swapi.dev/api/starships/22/\"\n",
      "    ],\n",
      "    \"name\": \"Han Solo\",\n",
      "    \"height\": \"180\",\n",
      "    \"birth_year\": \"29BBY\",\n",
      "    \"mass\": \"80\",\n",
      "    \"vehicles\": [],\n",
      "    \"created\": \"2014-12-10T16:49:14.582000Z\",\n",
      "    \"hair_color\": \"brown\",\n",
      "    \"url\": \"http://swapi.dev/api/people/14/\",\n",
      "    \"species\": [],\n",
      "    \"gender\": \"male\",\n",
      "    \"homeworld\": \"http://swapi.dev/api/planets/22/\"\n",
      "}\n"
     ]
    }
   ],
   "source": [
    "response = SWAPI.request_data(\"https://swapi.dev/api/people/14/\")\n",
    "JSON.print(JSON.parse(String(response.body)), 4)"
   ]
  },
  {
   "cell_type": "markdown",
   "metadata": {},
   "source": [
    "## Functions namespace seems to be implicit\n",
    "\n",
    "This call gives the same result as the previous one. Presumably there are precedence rules in cases of namespace clashes. Anyway, let's look at old Ben's stats."
   ]
  },
  {
   "cell_type": "code",
   "execution_count": 53,
   "metadata": {},
   "outputs": [
    {
     "name": "stdout",
     "output_type": "stream",
     "text": [
      "{\n",
      "    \"skin_color\": \"fair\",\n",
      "    \"eye_color\": \"blue-gray\",\n",
      "    \"edited\": \"2014-12-20T21:17:50.325000Z\",\n",
      "    \"films\": [\n",
      "        \"http://swapi.dev/api/films/1/\",\n",
      "        \"http://swapi.dev/api/films/2/\",\n",
      "        \"http://swapi.dev/api/films/3/\",\n",
      "        \"http://swapi.dev/api/films/4/\",\n",
      "        \"http://swapi.dev/api/films/5/\",\n",
      "        \"http://swapi.dev/api/films/6/\"\n",
      "    ],\n",
      "    \"starships\": [\n",
      "        \"http://swapi.dev/api/starships/48/\",\n",
      "        \"http://swapi.dev/api/starships/59/\",\n",
      "        \"http://swapi.dev/api/starships/64/\",\n",
      "        \"http://swapi.dev/api/starships/65/\",\n",
      "        \"http://swapi.dev/api/starships/74/\"\n",
      "    ],\n",
      "    \"name\": \"Obi-Wan Kenobi\",\n",
      "    \"height\": \"182\",\n",
      "    \"birth_year\": \"57BBY\",\n",
      "    \"mass\": \"77\",\n",
      "    \"vehicles\": [\n",
      "        \"http://swapi.dev/api/vehicles/38/\"\n",
      "    ],\n",
      "    \"created\": \"2014-12-10T16:16:29.192000Z\",\n",
      "    \"hair_color\": \"auburn, white\",\n",
      "    \"url\": \"http://swapi.dev/api/people/10/\",\n",
      "    \"species\": [],\n",
      "    \"gender\": \"male\",\n",
      "    \"homeworld\": \"http://swapi.dev/api/planets/20/\"\n",
      "}\n"
     ]
    }
   ],
   "source": [
    "response = request_data(\"https://swapi.dev/api/people/10/\")\n",
    "JSON.print(JSON.parse(String(response.body)), 4)"
   ]
  },
  {
   "cell_type": "markdown",
   "metadata": {},
   "source": [
    "## But what about the spaceships?!?\n",
    "\n",
    "Sorry, I kinda teased you with that x-wing clickbait. I've managed to mess up this notebook. Working with julia's built in package manager isn't really working for me in there and jumping between too many windows was making my head spin..."
   ]
  },
  {
   "cell_type": "code",
   "execution_count": null,
   "metadata": {},
   "outputs": [],
   "source": []
  }
 ],
 "metadata": {
  "kernelspec": {
   "display_name": "Julia 1.4.1",
   "language": "julia",
   "name": "julia-1.4"
  },
  "language_info": {
   "file_extension": ".jl",
   "mimetype": "application/julia",
   "name": "julia",
   "version": "1.4.1"
  }
 },
 "nbformat": 4,
 "nbformat_minor": 4
}
