{
 "cells": [
  {
   "cell_type": "markdown",
   "metadata": {},
   "source": [
    "- title:  Baby steps with Julia\n",
    "- author: Alexander\n",
    "- date: 2020-10-04 23:59\n",
    "- category: julia\n",
    "- tags: julia\n",
    "- slug: strava-api\n",
    "- featured_image: images/baby_steps_with_julia.png\n",
    "- Summary: I had heard a bit about julia but didn't know much. Coming at in from a Python perspective, it was intuitive at first because the syntax is familiar and you can play around in a notebook, which I quite like for basic prototyping. This was the fruit of an afternoon's meddling. I managed to make it retrieve some information about Star Wars which made me happy if nothing else"
   ]
  },
  {
   "cell_type": "markdown",
   "metadata": {},
   "source": [
    "## Hello World"
   ]
  },
  {
   "cell_type": "code",
   "execution_count": 1,
   "metadata": {},
   "outputs": [
    {
     "name": "stdout",
     "output_type": "stream",
     "text": [
      "hello world\n"
     ]
    }
   ],
   "source": [
    "println(\"hello world\")"
   ]
  },
  {
   "cell_type": "markdown",
   "metadata": {},
   "source": [
    "OK, so I managed to copy and paste a solution the venerable \"Hello World\" program. Similar syntax to Python, different function name. No semicolons so far too ;)"
   ]
  },
  {
   "cell_type": "markdown",
   "metadata": {},
   "source": [
    "## Quotes have different meanings"
   ]
  },
  {
   "cell_type": "code",
   "execution_count": 2,
   "metadata": {},
   "outputs": [
    {
     "data": {
      "text/plain": [
       "'a': ASCII/Unicode U+0061 (category Ll: Letter, lowercase)"
      ]
     },
     "execution_count": 2,
     "metadata": {},
     "output_type": "execute_result"
    }
   ],
   "source": [
    "a = 'a'"
   ]
  },
  {
   "cell_type": "code",
   "execution_count": 3,
   "metadata": {},
   "outputs": [
    {
     "data": {
      "text/plain": [
       "\"a\""
      ]
     },
     "execution_count": 3,
     "metadata": {},
     "output_type": "execute_result"
    }
   ],
   "source": [
    "b = \"a\""
   ]
  },
  {
   "cell_type": "markdown",
   "metadata": {},
   "source": [
    "## Everything seems to return a value"
   ]
  },
  {
   "cell_type": "code",
   "execution_count": 4,
   "metadata": {},
   "outputs": [
    {
     "data": {
      "text/plain": [
       "99"
      ]
     },
     "execution_count": 4,
     "metadata": {},
     "output_type": "execute_result"
    }
   ],
   "source": [
    "c = 99"
   ]
  },
  {
   "cell_type": "markdown",
   "metadata": {},
   "source": [
    "## Assignment can be chained"
   ]
  },
  {
   "cell_type": "code",
   "execution_count": 5,
   "metadata": {},
   "outputs": [
    {
     "data": {
      "text/plain": [
       "101"
      ]
     },
     "execution_count": 5,
     "metadata": {},
     "output_type": "execute_result"
    }
   ],
   "source": [
    "e = d = 101"
   ]
  },
  {
   "cell_type": "code",
   "execution_count": 6,
   "metadata": {},
   "outputs": [
    {
     "data": {
      "text/plain": [
       "101"
      ]
     },
     "execution_count": 6,
     "metadata": {},
     "output_type": "execute_result"
    }
   ],
   "source": [
    "d"
   ]
  },
  {
   "cell_type": "code",
   "execution_count": 7,
   "metadata": {},
   "outputs": [
    {
     "data": {
      "text/plain": [
       "101"
      ]
     },
     "execution_count": 7,
     "metadata": {},
     "output_type": "execute_result"
    }
   ],
   "source": [
    "e"
   ]
  },
  {
   "cell_type": "markdown",
   "metadata": {},
   "source": [
    "## How about list comprehension?"
   ]
  },
  {
   "cell_type": "code",
   "execution_count": 8,
   "metadata": {},
   "outputs": [
    {
     "data": {
      "text/plain": [
       "(1, 2, 3)"
      ]
     },
     "execution_count": 8,
     "metadata": {},
     "output_type": "execute_result"
    }
   ],
   "source": [
    "x, y, z = 1, 2, 3"
   ]
  },
  {
   "cell_type": "code",
   "execution_count": 9,
   "metadata": {},
   "outputs": [
    {
     "name": "stdout",
     "output_type": "stream",
     "text": [
      "123\n"
     ]
    }
   ],
   "source": [
    "println(x, y, z)"
   ]
  },
  {
   "cell_type": "code",
   "execution_count": 10,
   "metadata": {},
   "outputs": [
    {
     "data": {
      "text/plain": [
       "3-element Array{Any,1}:\n",
       "  \"a\"\n",
       "  'b'\n",
       " 3"
      ]
     },
     "execution_count": 10,
     "metadata": {},
     "output_type": "execute_result"
    }
   ],
   "source": [
    "x, y, z = [\"a\", 'b', 3]"
   ]
  },
  {
   "cell_type": "markdown",
   "metadata": {},
   "source": [
    "## Handling conditions"
   ]
  },
  {
   "cell_type": "code",
   "execution_count": 11,
   "metadata": {},
   "outputs": [
    {
     "name": "stdout",
     "output_type": "stream",
     "text": [
      "It sure is\n"
     ]
    }
   ],
   "source": [
    "i = 1\n",
    "if i >= 0\n",
    "    println(\"It sure is\")\n",
    "end"
   ]
  },
  {
   "cell_type": "code",
   "execution_count": 12,
   "metadata": {},
   "outputs": [
    {
     "name": "stdout",
     "output_type": "stream",
     "text": [
      "No they're not\n"
     ]
    }
   ],
   "source": [
    "if i != 0\n",
    "    println(\"No they're not\")\n",
    "end"
   ]
  },
  {
   "cell_type": "markdown",
   "metadata": {},
   "source": [
    "## Whitespace not so important\n",
    "\n",
    "There's not a semi colon in sight but whitespace isn't important"
   ]
  },
  {
   "cell_type": "code",
   "execution_count": 13,
   "metadata": {},
   "outputs": [
    {
     "name": "stdout",
     "output_type": "stream",
     "text": [
      "It still is\n"
     ]
    }
   ],
   "source": [
    "if i >= 0\n",
    "println(\"It still is\")\n",
    "end"
   ]
  },
  {
   "cell_type": "code",
   "execution_count": 14,
   "metadata": {},
   "outputs": [
    {
     "name": "stdout",
     "output_type": "stream",
     "text": [
      "Even this\n"
     ]
    }
   ],
   "source": [
    "                       i = 1\n",
    "       if i >= 0\n",
    "println(\"Even this\")\n",
    "   end"
   ]
  },
  {
   "cell_type": "markdown",
   "metadata": {},
   "source": [
    "## Basic loops\n",
    "\n",
    "Ranges can be specified easily and ranges are inclusive"
   ]
  },
  {
   "cell_type": "code",
   "execution_count": 15,
   "metadata": {},
   "outputs": [
    {
     "name": "stdout",
     "output_type": "stream",
     "text": [
      "-2\n",
      "-1\n",
      "0\n",
      "1\n",
      "2\n",
      "3\n"
     ]
    }
   ],
   "source": [
    "for i in -2:3\n",
    "    println(i)\n",
    "end"
   ]
  },
  {
   "cell_type": "markdown",
   "metadata": {},
   "source": [
    "## Arrays look Python-like"
   ]
  },
  {
   "cell_type": "code",
   "execution_count": 16,
   "metadata": {},
   "outputs": [
    {
     "data": {
      "text/plain": [
       "3-element Array{Int64,1}:\n",
       " 1\n",
       " 2\n",
       " 3"
      ]
     },
     "execution_count": 16,
     "metadata": {},
     "output_type": "execute_result"
    }
   ],
   "source": [
    "my_array = [1,2,3]"
   ]
  },
  {
   "cell_type": "markdown",
   "metadata": {},
   "source": [
    "## Arrays can hold a mix of types"
   ]
  },
  {
   "cell_type": "code",
   "execution_count": 17,
   "metadata": {},
   "outputs": [
    {
     "name": "stdout",
     "output_type": "stream",
     "text": [
      "string, c, 3, [\"a\"], "
     ]
    }
   ],
   "source": [
    "my_array = [\"string\",'c', 3,[\"a\"]]\n",
    "\n",
    "for i in my_array\n",
    "    print(i, \", \")\n",
    "end"
   ]
  },
  {
   "cell_type": "markdown",
   "metadata": {},
   "source": [
    "## There are dictionaries too"
   ]
  },
  {
   "cell_type": "code",
   "execution_count": 18,
   "metadata": {},
   "outputs": [
    {
     "data": {
      "text/plain": [
       "Dict{Any,Any} with 3 entries:\n",
       "  2         => '1'\n",
       "  \"frogger\" => \"one\"\n",
       "  'c'       => \"three\""
      ]
     },
     "execution_count": 18,
     "metadata": {},
     "output_type": "execute_result"
    }
   ],
   "source": [
    "my_dict = Dict(\"frogger\"=>\"one\", 2=>'1', 'c'=>\"three\")"
   ]
  },
  {
   "cell_type": "code",
   "execution_count": 19,
   "metadata": {},
   "outputs": [
    {
     "name": "stdout",
     "output_type": "stream",
     "text": [
      "2\n",
      "frogger\n",
      "c\n"
     ]
    }
   ],
   "source": [
    "for k in keys(my_dict)\n",
    "    println(k)\n",
    "end"
   ]
  },
  {
   "cell_type": "markdown",
   "metadata": {},
   "source": [
    "## Not sure what I'm getting here"
   ]
  },
  {
   "cell_type": "code",
   "execution_count": 20,
   "metadata": {},
   "outputs": [
    {
     "name": "stdout",
     "output_type": "stream",
     "text": [
      "Pair{Any,Any}(2, '1')\n",
      "Pair{Any,Any}(\"frogger\", \"one\")\n",
      "Pair{Any,Any}('c', \"three\")\n"
     ]
    }
   ],
   "source": [
    "for k in my_dict\n",
    "    println(k)\n",
    "end"
   ]
  },
  {
   "cell_type": "markdown",
   "metadata": {},
   "source": [
    "## Function syntax is clear"
   ]
  },
  {
   "cell_type": "code",
   "execution_count": 21,
   "metadata": {},
   "outputs": [
    {
     "data": {
      "text/plain": [
       "my_func (generic function with 1 method)"
      ]
     },
     "execution_count": 21,
     "metadata": {},
     "output_type": "execute_result"
    }
   ],
   "source": [
    "function my_func(x)\n",
    "    println(x * x)\n",
    "    return -1\n",
    "end"
   ]
  },
  {
   "cell_type": "markdown",
   "metadata": {},
   "source": [
    "## Not sure how to avoid this output"
   ]
  },
  {
   "cell_type": "code",
   "execution_count": 23,
   "metadata": {},
   "outputs": [
    {
     "name": "stdout",
     "output_type": "stream",
     "text": [
      "64\n"
     ]
    },
    {
     "data": {
      "text/plain": [
       "-1"
      ]
     },
     "execution_count": 23,
     "metadata": {},
     "output_type": "execute_result"
    }
   ],
   "source": [
    "y = my_func(8)"
   ]
  },
  {
   "cell_type": "code",
   "execution_count": 29,
   "metadata": {},
   "outputs": [
    {
     "name": "stdout",
     "output_type": "stream",
     "text": [
      "64\n"
     ]
    }
   ],
   "source": [
    "y = my_func(8);"
   ]
  },
  {
   "cell_type": "code",
   "execution_count": 31,
   "metadata": {},
   "outputs": [],
   "source": [
    "y;"
   ]
  },
  {
   "cell_type": "markdown",
   "metadata": {},
   "source": [
    "## Packages are installed like this\n",
    "\n",
    "This I found a little counter intuitive coming from Python. Packages are added from inside the shell rather than having an external package manager like pip."
   ]
  },
  {
   "cell_type": "code",
   "execution_count": 33,
   "metadata": {},
   "outputs": [],
   "source": [
    "using Pkg"
   ]
  },
  {
   "cell_type": "code",
   "execution_count": 36,
   "metadata": {},
   "outputs": [
    {
     "name": "stderr",
     "output_type": "stream",
     "text": [
      "\u001b[32m\u001b[1m   Updating\u001b[22m\u001b[39m registry at `~/.julia/registries/General`\n"
     ]
    },
    {
     "name": "stdout",
     "output_type": "stream",
     "text": [
      "\u001b[?25l    "
     ]
    },
    {
     "name": "stderr",
     "output_type": "stream",
     "text": [
      "\u001b[32m\u001b[1m   Updating\u001b[22m\u001b[39m git-repo `https://github.com/JuliaRegistries/General.git`\n"
     ]
    },
    {
     "name": "stdout",
     "output_type": "stream",
     "text": [
      "\u001b[2K\u001b[?25h[1mFetching:\u001b[22m\u001b[39m [========================================>]  100.0 %"
     ]
    },
    {
     "name": "stderr",
     "output_type": "stream",
     "text": [
      "\u001b[32m\u001b[1m  Resolving\u001b[22m\u001b[39m package versions...\n",
      "\u001b[32m\u001b[1m   Updating\u001b[22m\u001b[39m `~/.julia/environments/v1.4/Project.toml`\n",
      " \u001b[90m [cd3eb016]\u001b[39m\u001b[92m + HTTP v0.8.19\u001b[39m\n",
      "\u001b[32m\u001b[1m   Updating\u001b[22m\u001b[39m `~/.julia/environments/v1.4/Manifest.toml`\n",
      "\u001b[90m [no changes]\u001b[39m\n"
     ]
    }
   ],
   "source": [
    "Pkg.add(\"HTTP\")"
   ]
  },
  {
   "cell_type": "markdown",
   "metadata": {},
   "source": [
    "## Or you can use the inbuilt Pkg shell\n",
    "\n",
    "Press \"]\" to enter when in the Julia shell"
   ]
  },
  {
   "cell_type": "markdown",
   "metadata": {},
   "source": [
    "```\n",
    "(@v1.4) pkg> add HTTP\n",
    " Resolving package versions...\n",
    "  Updating `~/.julia/environments/v1.4/Project.toml`\n",
    " [cd3eb016] + HTTP v0.8.19\n",
    "  Updating `~/.julia/environments/v1.4/Manifest.toml`\n",
    " [cd3eb016] + HTTP v0.8.19\n",
    " [83e8ac13] + IniFile v0.5.0\n",
    "```"
   ]
  },
  {
   "cell_type": "markdown",
   "metadata": {},
   "source": [
    "## Using a package\n",
    "\n",
    "Using is like importing. This shows how to make a simple request using the HTTP package"
   ]
  },
  {
   "cell_type": "code",
   "execution_count": 37,
   "metadata": {},
   "outputs": [
    {
     "data": {
      "text/plain": [
       "\"{\\\"name\\\":\\\"Darth Vader\\\",\\\"height\\\":\\\"202\\\",\\\"mass\\\":\\\"136\\\",\\\"hair_color\\\":\\\"none\\\",\\\"skin_color\\\":\\\"white\\\",\\\"eye_color\\\":\\\"yellow\\\",\\\"birth_year\\\":\\\"41.9BBY\\\",\\\"gender\\\":\\\"male\\\",\\\"homeworld\\\":\\\"http://swapi.dev/api/planets/1/\\\",\\\"films\\\":[\\\"http://swapi.dev/api/films/1/\\\",\\\"http://swapi.dev/api/films/2/\\\",\\\"http://swapi.dev/api/films/3/\\\",\\\"http://swapi.dev/api/films/6/\\\"],\\\"species\\\":[],\\\"vehicles\\\":[],\\\"starships\\\":[\\\"http://swapi.dev/api/starships/13/\\\"],\\\"created\\\":\\\"2014-12-10T15:18:20.704000Z\\\",\\\"edited\\\":\\\"2014-12-20T21:17:50.313000Z\\\",\\\"url\\\":\\\"http://swapi.dev/api/people/4/\\\"}\""
      ]
     },
     "execution_count": 37,
     "metadata": {},
     "output_type": "execute_result"
    }
   ],
   "source": [
    "using HTTP\n",
    "\n",
    "response = HTTP.get(\"https://swapi.dev/api/people/4/\")\n",
    "response = String(response.body)"
   ]
  },
  {
   "cell_type": "markdown",
   "metadata": {},
   "source": [
    "## Pretty printing JSON"
   ]
  },
  {
   "cell_type": "code",
   "execution_count": 38,
   "metadata": {},
   "outputs": [
    {
     "name": "stdout",
     "output_type": "stream",
     "text": [
      "{\n",
      "    \"skin_color\": \"fair\",\n",
      "    \"eye_color\": \"brown\",\n",
      "    \"edited\": \"2014-12-20T21:17:50.349000Z\",\n",
      "    \"films\": [\n",
      "        \"http://swapi.dev/api/films/2/\",\n",
      "        \"http://swapi.dev/api/films/3/\",\n",
      "        \"http://swapi.dev/api/films/5/\"\n",
      "    ],\n",
      "    \"starships\": [\n",
      "        \"http://swapi.dev/api/starships/21/\"\n",
      "    ],\n",
      "    \"name\": \"Boba Fett\",\n",
      "    \"height\": \"183\",\n",
      "    \"birth_year\": \"31.5BBY\",\n",
      "    \"mass\": \"78.2\",\n",
      "    \"vehicles\": [],\n",
      "    \"created\": \"2014-12-15T12:49:32.457000Z\",\n",
      "    \"hair_color\": \"black\",\n",
      "    \"url\": \"http://swapi.dev/api/people/22/\",\n",
      "    \"species\": [],\n",
      "    \"gender\": \"male\",\n",
      "    \"homeworld\": \"http://swapi.dev/api/planets/10/\"\n",
      "}\n"
     ]
    }
   ],
   "source": [
    "using JSON\n",
    "\n",
    "response = HTTP.get(\"https://swapi.dev/api/people/22/\")\n",
    "response = String(response.body)\n",
    "\n",
    "JSON.print(JSON.parse(response), 4)"
   ]
  },
  {
   "cell_type": "markdown",
   "metadata": {},
   "source": [
    "## Creating a function\n",
    "\n",
    "Also shows simple error handling mechanism"
   ]
  },
  {
   "cell_type": "code",
   "execution_count": 39,
   "metadata": {},
   "outputs": [
    {
     "data": {
      "text/plain": [
       "make_API_call (generic function with 1 method)"
      ]
     },
     "execution_count": 39,
     "metadata": {},
     "output_type": "execute_result"
    }
   ],
   "source": [
    "function make_API_call(url)\n",
    "    try\n",
    "        response = HTTP.get(url)\n",
    "        return String(response.body)\n",
    "    catch e\n",
    "        return \"Something is borked: $e\"\n",
    "    end\n",
    "end"
   ]
  },
  {
   "cell_type": "code",
   "execution_count": 40,
   "metadata": {},
   "outputs": [
    {
     "name": "stdout",
     "output_type": "stream",
     "text": [
      "{\n",
      "    \"edited\": \"2014-12-20T21:30:21.716000Z\",\n",
      "    \"films\": [\n",
      "        \"http://swapi.dev/api/films/5/\"\n",
      "    ],\n",
      "    \"model\": \"Koro-2 Exodrive airspeeder\",\n",
      "    \"max_atmosphering_speed\": \"800\",\n",
      "    \"crew\": \"1\",\n",
      "    \"length\": \"6.6\",\n",
      "    \"name\": \"Koro-2 Exodrive airspeeder\",\n",
      "    \"passengers\": \"1\",\n",
      "    \"created\": \"2014-12-20T17:17:33.526000Z\",\n",
      "    \"pilots\": [\n",
      "        \"http://swapi.dev/api/people/70/\"\n",
      "    ],\n",
      "    \"cargo_capacity\": \"80\",\n",
      "    \"url\": \"http://swapi.dev/api/vehicles/45/\",\n",
      "    \"vehicle_class\": \"airspeeder\",\n",
      "    \"consumables\": \"unknown\",\n",
      "    \"manufacturer\": \"Desler Gizh Outworld Mobility Corporation\",\n",
      "    \"cost_in_credits\": \"unknown\"\n",
      "}\n"
     ]
    }
   ],
   "source": [
    "response = make_API_call(\"https://swapi.dev/api/vehicles/45/\")\n",
    "JSON.print(JSON.parse(response), 4)"
   ]
  },
  {
   "cell_type": "markdown",
   "metadata": {},
   "source": [
    "## Looks OK so far ;)\n",
    "\n",
    "I've barely touched the service but it's interesting..."
   ]
  }
 ],
 "metadata": {
  "kernelspec": {
   "display_name": "Julia 1.4.1",
   "language": "julia",
   "name": "julia-1.4"
  },
  "language_info": {
   "file_extension": ".jl",
   "mimetype": "application/julia",
   "name": "julia",
   "version": "1.4.1"
  }
 },
 "nbformat": 4,
 "nbformat_minor": 4
}
